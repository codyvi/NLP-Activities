{
  "nbformat": 4,
  "nbformat_minor": 0,
  "metadata": {
    "colab": {
      "name": "Datos Reddit.ipynb",
      "provenance": [],
      "collapsed_sections": []
    },
    "kernelspec": {
      "name": "python3",
      "display_name": "Python 3"
    },
    "language_info": {
      "name": "python"
    }
  },
  "cells": [
    {
      "cell_type": "code",
      "metadata": {
        "id": "oBjHX-yBUs2j"
      },
      "source": [
        "!pip install praw\n",
        "from IPython.display import clear_output \n",
        "clear_output()"
      ],
      "execution_count": null,
      "outputs": []
    },
    {
      "cell_type": "code",
      "metadata": {
        "colab": {
          "base_uri": "https://localhost:8080/"
        },
        "id": "ls5tpnpIVdPN",
        "outputId": "1b29b62e-3b8c-4ffb-9041-d5ce495fffe4"
      },
      "source": [
        "import praw\n",
        "import re\n",
        "\n",
        "#inicializar cliente de PRAW    \n",
        "reddit = praw.Reddit(\n",
        "    client_id=\"Client ID,\n",
        "    client_secret=\"Client Secret\",\n",
        "    user_agent=\"User Agent\n",
        "    check_for_async=False\n",
        ")\n",
        "\n",
        "print(reddit.user.me())\n",
        "\n",
        "print(reddit.read_only)"
      ],
      "execution_count": null,
      "outputs": [
        {
          "output_type": "stream",
          "text": [
            "None\n",
            "True\n"
          ],
          "name": "stdout"
        },
        {
          "output_type": "stream",
          "text": [
            "/usr/local/lib/python3.7/dist-packages/ipykernel_launcher.py:12: DeprecationWarning: The `None` return value is deprecated, and will raise a `ReadOnlyException` beginning with PRAW 8. See documentation for forward compatibility options.\n",
            "  if sys.path[0] == '':\n"
          ],
          "name": "stderr"
        }
      ]
    },
    {
      "cell_type": "code",
      "metadata": {
        "colab": {
          "base_uri": "https://localhost:8080/"
        },
        "id": "PFPOfT04VhFU",
        "outputId": "3d00b2c1-4137-4753-b4a0-6007ab855690"
      },
      "source": [
        "reddit.subreddit(\"depression\")"
      ],
      "execution_count": null,
      "outputs": [
        {
          "output_type": "execute_result",
          "data": {
            "text/plain": [
              "Subreddit(display_name='depression')"
            ]
          },
          "metadata": {
            "tags": []
          },
          "execution_count": 3
        }
      ]
    },
    {
      "cell_type": "code",
      "metadata": {
        "id": "bPrwiZcNV00n"
      },
      "source": [
        "def searchBySubredditHot(subreddit, postsNum):\n",
        "    Subreddit = reddit.subreddit(subreddit)\n",
        "    \n",
        "    comments = []\n",
        "    \n",
        "    \n",
        "    for submission in Subreddit.hot(limit=postsNum):\n",
        "      comments.append(submission.selftext)\n",
        "     \n",
        "    \n",
        "    return comments"
      ],
      "execution_count": null,
      "outputs": []
    },
    {
      "cell_type": "code",
      "metadata": {
        "id": "XkmvRuTn054C"
      },
      "source": [
        "def searchBySubredditNew(subreddit, postsNum):\n",
        "    Subreddit = reddit.subreddit(subreddit)\n",
        "    \n",
        "    comments = []\n",
        "    \n",
        "    \n",
        "    for submission in Subreddit.new(limit=postsNum):\n",
        "      comments.append(submission.selftext)\n",
        "     \n",
        "    \n",
        "    return comments"
      ],
      "execution_count": null,
      "outputs": []
    },
    {
      "cell_type": "code",
      "metadata": {
        "id": "Hfk_Xt7fx7qw"
      },
      "source": [
        "def searchByComment(subreddit, postsNum):\n",
        "    Subreddit = reddit.subreddit(subreddit)\n",
        "    \n",
        "    comments = []\n",
        "    \n",
        "    for submission in Subreddit.hot(limit=postsNum):\n",
        "      #print(submission.title)\n",
        "      for comment in submission.comments.list()[:100]:\n",
        "                  comments.append(comment.body)\n",
        "    \n",
        "    return comments"
      ],
      "execution_count": null,
      "outputs": []
    },
    {
      "cell_type": "markdown",
      "metadata": {
        "id": "dAofBgdA7dqx"
      },
      "source": [
        "# Obtención de datos negativos"
      ]
    },
    {
      "cell_type": "code",
      "metadata": {
        "id": "VN-95UXXMzks"
      },
      "source": [
        "! pip install -q kaggle"
      ],
      "execution_count": null,
      "outputs": []
    },
    {
      "cell_type": "code",
      "metadata": {
        "id": "QYA6QNzhM1VA"
      },
      "source": [
        "from google.colab import files"
      ],
      "execution_count": null,
      "outputs": []
    },
    {
      "cell_type": "code",
      "metadata": {
        "id": "wyxbu0t5M3Yl"
      },
      "source": [
        "files.upload()"
      ],
      "execution_count": null,
      "outputs": []
    },
    {
      "cell_type": "code",
      "metadata": {
        "id": "uBiO27EpM5hS"
      },
      "source": [
        " ! mkdir ~/.kaggle"
      ],
      "execution_count": null,
      "outputs": []
    },
    {
      "cell_type": "code",
      "metadata": {
        "id": "egMob7x9M7rP"
      },
      "source": [
        "! cp kaggle.json ~/.kaggle/"
      ],
      "execution_count": null,
      "outputs": []
    },
    {
      "cell_type": "code",
      "metadata": {
        "id": "VWvJqHWbM9ei"
      },
      "source": [
        " ! chmod 600 ~/.kaggle/kaggle.json"
      ],
      "execution_count": null,
      "outputs": []
    },
    {
      "cell_type": "code",
      "metadata": {
        "colab": {
          "base_uri": "https://localhost:8080/"
        },
        "id": "I-AUJVPqM68U",
        "outputId": "02bf7f30-8e34-482e-c77b-2536f2bffd0d"
      },
      "source": [
        "!kaggle datasets download -d nikhileswarkomati/suicide-watch"
      ],
      "execution_count": null,
      "outputs": [
        {
          "output_type": "stream",
          "text": [
            "Downloading suicide-watch.zip to /content\n",
            " 92% 56.0M/60.6M [00:00<00:00, 70.7MB/s]\n",
            "100% 60.6M/60.6M [00:00<00:00, 95.4MB/s]\n"
          ],
          "name": "stdout"
        }
      ]
    },
    {
      "cell_type": "code",
      "metadata": {
        "colab": {
          "base_uri": "https://localhost:8080/"
        },
        "id": "16vJs1jcNDht",
        "outputId": "b9a5b9b8-33a1-4e34-90d3-f7b54d584c04"
      },
      "source": [
        "!unzip suicide-watch.zip"
      ],
      "execution_count": null,
      "outputs": [
        {
          "output_type": "stream",
          "text": [
            "Archive:  suicide-watch.zip\n",
            "  inflating: Suicide_Detection.csv   \n"
          ],
          "name": "stdout"
        }
      ]
    },
    {
      "cell_type": "code",
      "metadata": {
        "id": "JdS1ylFKWWfD"
      },
      "source": [
        "negativeComments = searchBySubredditHot(\"depression\", 1000)"
      ],
      "execution_count": null,
      "outputs": []
    },
    {
      "cell_type": "code",
      "metadata": {
        "id": "H78r1lO6WdLF"
      },
      "source": [
        "temp = searchBySubredditNew(\"depression\", 1000)\n",
        "negativeComments = negativeComments + temp"
      ],
      "execution_count": null,
      "outputs": []
    },
    {
      "cell_type": "code",
      "metadata": {
        "id": "0Pd1tA5tZurR"
      },
      "source": [
        "temp = searchByComment(\"depression\", 50)\n",
        "negativeComments = negativeComments + temp"
      ],
      "execution_count": null,
      "outputs": []
    },
    {
      "cell_type": "code",
      "metadata": {
        "id": "Gz3ElG269DU_"
      },
      "source": [
        "temp = searchBySubredditHot(\"SuicideWatch\", 1000)\n",
        "negativeComments = negativeComments + temp"
      ],
      "execution_count": null,
      "outputs": []
    },
    {
      "cell_type": "code",
      "metadata": {
        "id": "5usVcGuH9H6H"
      },
      "source": [
        "temp = searchBySubredditNew(\"SuicideWatch\", 1000)\n",
        "negativeComments = negativeComments + temp"
      ],
      "execution_count": null,
      "outputs": []
    },
    {
      "cell_type": "code",
      "metadata": {
        "id": "kNQVsGjg9IO5"
      },
      "source": [
        "temp = searchByComment(\"SuicideWatch\", 5)\n",
        "negativeComments = negativeComments + temp"
      ],
      "execution_count": null,
      "outputs": []
    },
    {
      "cell_type": "code",
      "metadata": {
        "id": "nvO55uKu91Bv"
      },
      "source": [
        "temp = searchBySubredditHot(\"sad\", 1000)\n",
        "negativeComments = negativeComments + temp"
      ],
      "execution_count": null,
      "outputs": []
    },
    {
      "cell_type": "code",
      "metadata": {
        "id": "JYSGms5Y-UY3"
      },
      "source": [
        "temp = searchBySubredditNew(\"sad\", 1000)\n",
        "negativeComments = negativeComments + temp"
      ],
      "execution_count": null,
      "outputs": []
    },
    {
      "cell_type": "code",
      "metadata": {
        "id": "zJXsBWIp-Ug0"
      },
      "source": [
        "temp = searchBySubredditHot(\"depression_help\", 1000)\n",
        "negativeComments = negativeComments + temp"
      ],
      "execution_count": null,
      "outputs": []
    },
    {
      "cell_type": "code",
      "metadata": {
        "id": "FXXyLhcaFLm5"
      },
      "source": [
        "temp = searchBySubredditNew(\"depression_help\", 1000)\n",
        "negativeComments = negativeComments + temp"
      ],
      "execution_count": null,
      "outputs": []
    },
    {
      "cell_type": "code",
      "metadata": {
        "id": "ySz3wLK_Fp37"
      },
      "source": [
        "temp = searchByComment(\"depression_help\", 10)\n",
        "negativeComments = negativeComments + temp"
      ],
      "execution_count": null,
      "outputs": []
    },
    {
      "cell_type": "code",
      "metadata": {
        "id": "eVbmyywANLF8"
      },
      "source": [
        "import numpy as np \n",
        "import pandas as pd "
      ],
      "execution_count": null,
      "outputs": []
    },
    {
      "cell_type": "code",
      "metadata": {
        "id": "kA7di7hRNPY_"
      },
      "source": [
        "DATASET_COLUMNS = [\"number\", \"text\", \"class\"]\n",
        "df = pd.read_csv('Suicide_Detection.csv', names=DATASET_COLUMNS)"
      ],
      "execution_count": null,
      "outputs": []
    },
    {
      "cell_type": "code",
      "metadata": {
        "colab": {
          "base_uri": "https://localhost:8080/",
          "height": 419
        },
        "id": "Zxi_VuzwNU7h",
        "outputId": "74c9d688-d530-40f7-c522-df13711c98af"
      },
      "source": [
        "negative = df[df['class'] == 'suicide']\n",
        "negative"
      ],
      "execution_count": null,
      "outputs": [
        {
          "output_type": "execute_result",
          "data": {
            "text/html": [
              "<div>\n",
              "<style scoped>\n",
              "    .dataframe tbody tr th:only-of-type {\n",
              "        vertical-align: middle;\n",
              "    }\n",
              "\n",
              "    .dataframe tbody tr th {\n",
              "        vertical-align: top;\n",
              "    }\n",
              "\n",
              "    .dataframe thead th {\n",
              "        text-align: right;\n",
              "    }\n",
              "</style>\n",
              "<table border=\"1\" class=\"dataframe\">\n",
              "  <thead>\n",
              "    <tr style=\"text-align: right;\">\n",
              "      <th></th>\n",
              "      <th>number</th>\n",
              "      <th>text</th>\n",
              "      <th>class</th>\n",
              "    </tr>\n",
              "  </thead>\n",
              "  <tbody>\n",
              "    <tr>\n",
              "      <th>1</th>\n",
              "      <td>2.0</td>\n",
              "      <td>Ex Wife Threatening SuicideRecently I left my ...</td>\n",
              "      <td>suicide</td>\n",
              "    </tr>\n",
              "    <tr>\n",
              "      <th>4</th>\n",
              "      <td>8.0</td>\n",
              "      <td>i need helpjust help me im crying so hard</td>\n",
              "      <td>suicide</td>\n",
              "    </tr>\n",
              "    <tr>\n",
              "      <th>5</th>\n",
              "      <td>9.0</td>\n",
              "      <td>I’m so lostHello, my name is Adam (16) and I’v...</td>\n",
              "      <td>suicide</td>\n",
              "    </tr>\n",
              "    <tr>\n",
              "      <th>6</th>\n",
              "      <td>11.0</td>\n",
              "      <td>Honetly idkI dont know what im even doing here...</td>\n",
              "      <td>suicide</td>\n",
              "    </tr>\n",
              "    <tr>\n",
              "      <th>7</th>\n",
              "      <td>12.0</td>\n",
              "      <td>[Trigger warning] Excuse for self inflicted bu...</td>\n",
              "      <td>suicide</td>\n",
              "    </tr>\n",
              "    <tr>\n",
              "      <th>...</th>\n",
              "      <td>...</td>\n",
              "      <td>...</td>\n",
              "      <td>...</td>\n",
              "    </tr>\n",
              "    <tr>\n",
              "      <th>232062</th>\n",
              "      <td>348090.0</td>\n",
              "      <td>I’ve fucking had enough.None of this depressio...</td>\n",
              "      <td>suicide</td>\n",
              "    </tr>\n",
              "    <tr>\n",
              "      <th>232063</th>\n",
              "      <td>348092.0</td>\n",
              "      <td>paralyzing anxiety &amp;amp; depression are pushin...</td>\n",
              "      <td>suicide</td>\n",
              "    </tr>\n",
              "    <tr>\n",
              "      <th>232067</th>\n",
              "      <td>348098.0</td>\n",
              "      <td>My mom tried to kill herself today. I feel los...</td>\n",
              "      <td>suicide</td>\n",
              "    </tr>\n",
              "    <tr>\n",
              "      <th>232068</th>\n",
              "      <td>348100.0</td>\n",
              "      <td>I’m a fucking scummy person and I can’t change...</td>\n",
              "      <td>suicide</td>\n",
              "    </tr>\n",
              "    <tr>\n",
              "      <th>232073</th>\n",
              "      <td>348108.0</td>\n",
              "      <td>The usual stuff you find hereI'm not posting t...</td>\n",
              "      <td>suicide</td>\n",
              "    </tr>\n",
              "  </tbody>\n",
              "</table>\n",
              "<p>116037 rows × 3 columns</p>\n",
              "</div>"
            ],
            "text/plain": [
              "          number                                               text    class\n",
              "1            2.0  Ex Wife Threatening SuicideRecently I left my ...  suicide\n",
              "4            8.0          i need helpjust help me im crying so hard  suicide\n",
              "5            9.0  I’m so lostHello, my name is Adam (16) and I’v...  suicide\n",
              "6           11.0  Honetly idkI dont know what im even doing here...  suicide\n",
              "7           12.0  [Trigger warning] Excuse for self inflicted bu...  suicide\n",
              "...          ...                                                ...      ...\n",
              "232062  348090.0  I’ve fucking had enough.None of this depressio...  suicide\n",
              "232063  348092.0  paralyzing anxiety &amp; depression are pushin...  suicide\n",
              "232067  348098.0  My mom tried to kill herself today. I feel los...  suicide\n",
              "232068  348100.0  I’m a fucking scummy person and I can’t change...  suicide\n",
              "232073  348108.0  The usual stuff you find hereI'm not posting t...  suicide\n",
              "\n",
              "[116037 rows x 3 columns]"
            ]
          },
          "metadata": {
            "tags": []
          },
          "execution_count": 30
        }
      ]
    },
    {
      "cell_type": "code",
      "metadata": {
        "id": "nbGfgtTrN0XF"
      },
      "source": [
        "negative = negative.loc[np.random.choice(negative.index, 5000, replace=False)]"
      ],
      "execution_count": null,
      "outputs": []
    },
    {
      "cell_type": "code",
      "metadata": {
        "id": "ugiU878yOXhz"
      },
      "source": [
        "negative = negative['text'].tolist()"
      ],
      "execution_count": null,
      "outputs": []
    },
    {
      "cell_type": "code",
      "metadata": {
        "id": "YeevoOFEPl6o"
      },
      "source": [
        "negativeComments = negativeComments + negative"
      ],
      "execution_count": null,
      "outputs": []
    },
    {
      "cell_type": "markdown",
      "metadata": {
        "id": "KjRYYTP_Px6Q"
      },
      "source": [
        "# Obtención de datos positivos"
      ]
    },
    {
      "cell_type": "code",
      "metadata": {
        "id": "qz49vWozP3FE"
      },
      "source": [
        "positiveComments = searchBySubredditHot(\"wholesome\", 1000)"
      ],
      "execution_count": null,
      "outputs": []
    },
    {
      "cell_type": "code",
      "metadata": {
        "id": "KchxmYbJQGKx"
      },
      "source": [
        "temp = searchBySubredditNew(\"wholesome\", 1000)\n",
        "positiveComments = positiveComments + temp"
      ],
      "execution_count": null,
      "outputs": []
    },
    {
      "cell_type": "code",
      "metadata": {
        "id": "IJtFDqZIQJ5V"
      },
      "source": [
        "temp = searchByComment(\"wholesome\", 100)\n",
        "positiveComments = positiveComments + temp"
      ],
      "execution_count": null,
      "outputs": []
    },
    {
      "cell_type": "code",
      "metadata": {
        "id": "D8zQcBmYUoNx"
      },
      "source": [
        "temp = searchBySubredditNew(\"Positive\", 1000)\n",
        "positiveComments = positiveComments + temp"
      ],
      "execution_count": null,
      "outputs": []
    },
    {
      "cell_type": "code",
      "metadata": {
        "id": "UKWDpkmOUogQ"
      },
      "source": [
        "temp = searchBySubredditHot(\"Positive\", 1000)\n",
        "positiveComments = positiveComments + temp"
      ],
      "execution_count": null,
      "outputs": []
    },
    {
      "cell_type": "code",
      "metadata": {
        "id": "C2rSqL-OUokd"
      },
      "source": [
        "temp = searchByComment(\"Positive\", 100)\n",
        "positiveComments = positiveComments + temp"
      ],
      "execution_count": null,
      "outputs": []
    },
    {
      "cell_type": "code",
      "metadata": {
        "id": "NNntHSXjXQFS"
      },
      "source": [
        "temp = searchBySubredditNew(\"happy\", 1000)\n",
        "positiveComments = positiveComments + temp"
      ],
      "execution_count": null,
      "outputs": []
    },
    {
      "cell_type": "code",
      "metadata": {
        "id": "M40z0xnXXQHf"
      },
      "source": [
        "temp = searchBySubredditHot(\"happy\", 1000)\n",
        "positiveComments = positiveComments + temp"
      ],
      "execution_count": null,
      "outputs": []
    },
    {
      "cell_type": "code",
      "metadata": {
        "id": "3qa3THAaXQKH"
      },
      "source": [
        "temp = searchByComment(\"happy\", 10)\n",
        "positiveComments = positiveComments + temp"
      ],
      "execution_count": null,
      "outputs": []
    },
    {
      "cell_type": "code",
      "metadata": {
        "id": "7U61sM3IXrcK"
      },
      "source": [
        "temp = searchBySubredditNew(\"MadeMeSmile\", 1000)\n",
        "positiveComments = positiveComments + temp"
      ],
      "execution_count": null,
      "outputs": []
    },
    {
      "cell_type": "code",
      "metadata": {
        "id": "wcWwLrbVXre3"
      },
      "source": [
        "temp = searchBySubredditHot(\"MadeMeSmile\", 1000)\n",
        "positiveComments = positiveComments + temp"
      ],
      "execution_count": null,
      "outputs": []
    },
    {
      "cell_type": "code",
      "metadata": {
        "id": "AU38JHBGXrhz"
      },
      "source": [
        "temp = searchByComment(\"MadeMeSmile\", 10)\n",
        "positiveComments = positiveComments + temp"
      ],
      "execution_count": null,
      "outputs": []
    },
    {
      "cell_type": "code",
      "metadata": {
        "id": "Ojl_9VzCZKtG"
      },
      "source": [
        "temp = searchBySubredditNew(\"HumansBeingBros\", 1000)\n",
        "positiveComments = positiveComments + temp"
      ],
      "execution_count": null,
      "outputs": []
    },
    {
      "cell_type": "code",
      "metadata": {
        "id": "phY72NZ3ZKvn"
      },
      "source": [
        "temp = searchBySubredditHot(\"HumansBeingBros\", 1000)\n",
        "positiveComments = positiveComments + temp"
      ],
      "execution_count": null,
      "outputs": []
    },
    {
      "cell_type": "code",
      "metadata": {
        "id": "e6xV3bf0ZKyf"
      },
      "source": [
        "temp = searchByComment(\"HumansBeingBros\", 5)\n",
        "positiveComments = positiveComments + temp"
      ],
      "execution_count": null,
      "outputs": []
    },
    {
      "cell_type": "code",
      "metadata": {
        "colab": {
          "base_uri": "https://localhost:8080/"
        },
        "id": "9VV3P8v9e9_G",
        "outputId": "1b31eb94-3a3c-4004-8912-596635e89358"
      },
      "source": [
        "!kaggle datasets download -d ehallmar/reddit-comment-score-prediction"
      ],
      "execution_count": null,
      "outputs": [
        {
          "output_type": "stream",
          "text": [
            "Downloading reddit-comment-score-prediction.zip to /content\n",
            " 99% 805M/815M [00:06<00:00, 165MB/s]\n",
            "100% 815M/815M [00:06<00:00, 132MB/s]\n"
          ],
          "name": "stdout"
        }
      ]
    },
    {
      "cell_type": "code",
      "metadata": {
        "colab": {
          "base_uri": "https://localhost:8080/"
        },
        "id": "Q_XDSb9Be_pI",
        "outputId": "1fc56f35-6629-4120-f54a-90018ec4d206"
      },
      "source": [
        "!unzip reddit-comment-score-prediction.zip"
      ],
      "execution_count": null,
      "outputs": [
        {
          "output_type": "stream",
          "text": [
            "Archive:  reddit-comment-score-prediction.zip\n",
            "  inflating: comments_negative.csv   \n",
            "  inflating: comments_positive.csv   \n"
          ],
          "name": "stdout"
        }
      ]
    },
    {
      "cell_type": "code",
      "metadata": {
        "id": "LyCAU4nNfO6b"
      },
      "source": [
        "DATASET_COLUMNS = [\"number\", \"text\", \"class\"]\n",
        "df = pd.read_csv('comments_positive.csv')"
      ],
      "execution_count": null,
      "outputs": []
    },
    {
      "cell_type": "code",
      "metadata": {
        "id": "9wMAwD9gfVLD"
      },
      "source": [
        "df = df.drop(['id', 'parent_id', 'subreddit_id', 'link_id', 'score', 'ups', 'controversiality', 'parent_text', 'parent_score','parent_link_id', 'parent_link_id', 'parent_link_id', 'parent_ups', 'parent_author', 'parent_controversiality'], axis=1)"
      ],
      "execution_count": null,
      "outputs": []
    },
    {
      "cell_type": "code",
      "metadata": {
        "id": "onk6hB1Tf-0z"
      },
      "source": [
        "df = df.loc[np.random.choice(df.index, 8000, replace=False)]"
      ],
      "execution_count": null,
      "outputs": []
    },
    {
      "cell_type": "code",
      "metadata": {
        "id": "7JgguxFygJIb"
      },
      "source": [
        "df = df['text'].tolist()"
      ],
      "execution_count": null,
      "outputs": []
    },
    {
      "cell_type": "code",
      "metadata": {
        "id": "M7O9TDa_gNPV"
      },
      "source": [
        "positiveComments = positiveComments + df"
      ],
      "execution_count": null,
      "outputs": []
    },
    {
      "cell_type": "code",
      "metadata": {
        "id": "dTCSmje2cb_l"
      },
      "source": [
        "comments = []\n",
        "for i in positiveComments:\n",
        "\n",
        "          \n",
        "        processedtext = re.sub(r'\\[(?P<word>.*?)\\].*?\\)', '\\g<word>', i)\n",
        "\n",
        "        processedtext = re.sub(r'r\\/(?P<subr>\\w*)', '\\g<subr>', processedtext)\n",
        "        \n",
        "        processedtext = re.sub(r'u\\/(?P<subr>\\w*)', '', processedtext)\n",
        "\n",
        "        text_cleaning_re = \"@\\S+|https?:\\S+|http?:\\S|[^A-Za-z0-9]+\"\n",
        "        processedtext = re.sub(text_cleaning_re, ' ' ,processedtext)\n",
        "        comments.append(processedtext)"
      ],
      "execution_count": null,
      "outputs": []
    },
    {
      "cell_type": "code",
      "metadata": {
        "id": "bqR235WZZaMZ"
      },
      "source": [
        "positiveComments = comments"
      ],
      "execution_count": null,
      "outputs": []
    },
    {
      "cell_type": "code",
      "metadata": {
        "id": "eb_xy0R-edA6"
      },
      "source": [
        "comments = []\n",
        "for i in negativeComments:\n",
        "\n",
        "          \n",
        "        processedtext = re.sub(r'\\[(?P<word>.*?)\\].*?\\)', '\\g<word>', i)\n",
        "\n",
        "        processedtext = re.sub(r'r\\/(?P<subr>\\w*)', '\\g<subr>', processedtext)\n",
        "        \n",
        "        processedtext = re.sub(r'u\\/(?P<subr>\\w*)', '', processedtext)\n",
        "\n",
        "        text_cleaning_re = \"@\\S+|https?:\\S+|http?:\\S|[^A-Za-z0-9]+\"\n",
        "        processedtext = re.sub(text_cleaning_re, ' ' ,processedtext)\n",
        "        comments.append(processedtext)"
      ],
      "execution_count": null,
      "outputs": []
    },
    {
      "cell_type": "code",
      "metadata": {
        "id": "lAuS08D6egZT"
      },
      "source": [
        "negativeComments = comments"
      ],
      "execution_count": null,
      "outputs": []
    },
    {
      "cell_type": "code",
      "metadata": {
        "id": "qYFcYP2seDl4"
      },
      "source": [
        "positiveComments = list(filter(None, positiveComments))"
      ],
      "execution_count": null,
      "outputs": []
    },
    {
      "cell_type": "code",
      "metadata": {
        "id": "PVJ--TzweKxk"
      },
      "source": [
        "negativeComments  = list(filter(None, negativeComments))"
      ],
      "execution_count": null,
      "outputs": []
    },
    {
      "cell_type": "markdown",
      "metadata": {
        "id": "FGDFje1Fgd6-"
      },
      "source": [
        "# Distribución de Datos"
      ]
    },
    {
      "cell_type": "code",
      "metadata": {
        "colab": {
          "base_uri": "https://localhost:8080/"
        },
        "id": "IaSf8qn2b-qW",
        "outputId": "784b41f2-40a6-489c-e0ca-0133288948c8"
      },
      "source": [
        "print('Numero de comentarios negativos:', len(negativeComments))\n",
        "print('Numero de comentarios positivos:', len(positiveComments))"
      ],
      "execution_count": null,
      "outputs": [
        {
          "output_type": "stream",
          "text": [
            "Numero de comentarios negativos: 12468\n",
            "Numero de comentarios positivos: 10374\n"
          ],
          "name": "stdout"
        }
      ]
    },
    {
      "cell_type": "code",
      "metadata": {
        "colab": {
          "base_uri": "https://localhost:8080/",
          "height": 352
        },
        "id": "Xx2AGtWKcIYg",
        "outputId": "b4f96cb8-0bb1-4e76-91f8-9c2462da44f3"
      },
      "source": [
        "import matplotlib.pyplot as plt\n",
        "import numpy as np\n",
        "fig = plt.figure()\n",
        "ax = fig.add_axes([0,0,1,1])\n",
        "ax.set_title('Distribución de datos')\n",
        "cat = ['Negative', 'Positive']\n",
        "res = [len(negativeComments), len(positiveComments)]\n",
        "x_pos = np.arange(len(cat))\n",
        "ax.bar(x_pos, res, color=['red', 'blue'])\n",
        "plt.xticks(x_pos, cat)\n",
        "plt.show()"
      ],
      "execution_count": null,
      "outputs": [
        {
          "output_type": "display_data",
          "data": {
            "image/png": "[encoded data removed]",
            "text/plain": [
              "<Figure size 432x288 with 1 Axes>"
            ]
          },
          "metadata": {
            "tags": [],
            "needs_background": "light"
          }
        }
      ]
    },
    {
      "cell_type": "code",
      "metadata": {
        "id": "aWjdyoJPTofj"
      },
      "source": [
        "import pandas as pd"
      ],
      "execution_count": null,
      "outputs": []
    },
    {
      "cell_type": "code",
      "metadata": {
        "id": "4E9JtTThUPFn"
      },
      "source": [
        "dfPositivos = pd.DataFrame(positiveComments, columns=['text'])"
      ],
      "execution_count": null,
      "outputs": []
    },
    {
      "cell_type": "code",
      "metadata": {
        "colab": {
          "base_uri": "https://localhost:8080/",
          "height": 204
        },
        "id": "rT8YLYk-UVTi",
        "outputId": "25fa4555-0acf-4427-9c34-654ad51be409"
      },
      "source": [
        "dfPositivos.head()"
      ],
      "execution_count": null,
      "outputs": [
        {
          "output_type": "execute_result",
          "data": {
            "text/html": [
              "<div>\n",
              "<style scoped>\n",
              "    .dataframe tbody tr th:only-of-type {\n",
              "        vertical-align: middle;\n",
              "    }\n",
              "\n",
              "    .dataframe tbody tr th {\n",
              "        vertical-align: top;\n",
              "    }\n",
              "\n",
              "    .dataframe thead th {\n",
              "        text-align: right;\n",
              "    }\n",
              "</style>\n",
              "<table border=\"1\" class=\"dataframe\">\n",
              "  <thead>\n",
              "    <tr style=\"text-align: right;\">\n",
              "      <th></th>\n",
              "      <th>text</th>\n",
              "    </tr>\n",
              "  </thead>\n",
              "  <tbody>\n",
              "    <tr>\n",
              "      <th>0</th>\n",
              "      <td>Fucking shit What s the end of the story of th...</td>\n",
              "    </tr>\n",
              "    <tr>\n",
              "      <th>1</th>\n",
              "      <td>Omg such a lovely granny Happy many many more ...</td>\n",
              "    </tr>\n",
              "    <tr>\n",
              "      <th>2</th>\n",
              "      <td>I m pissed he didn t post the full video</td>\n",
              "    </tr>\n",
              "    <tr>\n",
              "      <th>3</th>\n",
              "      <td>What Noooo I wanted to hear the rest of the st...</td>\n",
              "    </tr>\n",
              "    <tr>\n",
              "      <th>4</th>\n",
              "      <td>I want to know too</td>\n",
              "    </tr>\n",
              "  </tbody>\n",
              "</table>\n",
              "</div>"
            ],
            "text/plain": [
              "                                                text\n",
              "0  Fucking shit What s the end of the story of th...\n",
              "1  Omg such a lovely granny Happy many many more ...\n",
              "2           I m pissed he didn t post the full video\n",
              "3  What Noooo I wanted to hear the rest of the st...\n",
              "4                                I want to know too "
            ]
          },
          "metadata": {
            "tags": []
          },
          "execution_count": 78
        }
      ]
    },
    {
      "cell_type": "code",
      "metadata": {
        "id": "ehAar1OIUlIA"
      },
      "source": [
        "dfPositivos['sentiment'] = 1"
      ],
      "execution_count": null,
      "outputs": []
    },
    {
      "cell_type": "code",
      "metadata": {
        "id": "dBIIGRpCUwab"
      },
      "source": [
        "dfPositivos = dfPositivos.sample(n=10000)"
      ],
      "execution_count": null,
      "outputs": []
    },
    {
      "cell_type": "code",
      "metadata": {
        "colab": {
          "base_uri": "https://localhost:8080/",
          "height": 419
        },
        "id": "iTLB7zO2Wpkm",
        "outputId": "f81969a8-cc64-4aaa-c164-4ca8e1849428"
      },
      "source": [
        "dfPositivos"
      ],
      "execution_count": null,
      "outputs": [
        {
          "output_type": "execute_result",
          "data": {
            "text/html": [
              "<div>\n",
              "<style scoped>\n",
              "    .dataframe tbody tr th:only-of-type {\n",
              "        vertical-align: middle;\n",
              "    }\n",
              "\n",
              "    .dataframe tbody tr th {\n",
              "        vertical-align: top;\n",
              "    }\n",
              "\n",
              "    .dataframe thead th {\n",
              "        text-align: right;\n",
              "    }\n",
              "</style>\n",
              "<table border=\"1\" class=\"dataframe\">\n",
              "  <thead>\n",
              "    <tr style=\"text-align: right;\">\n",
              "      <th></th>\n",
              "      <th>text</th>\n",
              "      <th>sentiment</th>\n",
              "    </tr>\n",
              "  </thead>\n",
              "  <tbody>\n",
              "    <tr>\n",
              "      <th>9757</th>\n",
              "      <td>Kind of like the Roselli brothers casino theft</td>\n",
              "      <td>1</td>\n",
              "    </tr>\n",
              "    <tr>\n",
              "      <th>2599</th>\n",
              "      <td>OP</td>\n",
              "      <td>1</td>\n",
              "    </tr>\n",
              "    <tr>\n",
              "      <th>8540</th>\n",
              "      <td>Dad</td>\n",
              "      <td>1</td>\n",
              "    </tr>\n",
              "    <tr>\n",
              "      <th>1931</th>\n",
              "      <td>They are not wrong Dude does look like Tony Hawk</td>\n",
              "      <td>1</td>\n",
              "    </tr>\n",
              "    <tr>\n",
              "      <th>2494</th>\n",
              "      <td>Like quiptonite</td>\n",
              "      <td>1</td>\n",
              "    </tr>\n",
              "    <tr>\n",
              "      <th>...</th>\n",
              "      <td>...</td>\n",
              "      <td>...</td>\n",
              "    </tr>\n",
              "    <tr>\n",
              "      <th>6542</th>\n",
              "      <td>I prefer the Sick Duck</td>\n",
              "      <td>1</td>\n",
              "    </tr>\n",
              "    <tr>\n",
              "      <th>7878</th>\n",
              "      <td>One tough water bender I d wager</td>\n",
              "      <td>1</td>\n",
              "    </tr>\n",
              "    <tr>\n",
              "      <th>3751</th>\n",
              "      <td>The only people to defend attacks on our civil...</td>\n",
              "      <td>1</td>\n",
              "    </tr>\n",
              "    <tr>\n",
              "      <th>3615</th>\n",
              "      <td>he looks like a middle aged lesbian</td>\n",
              "      <td>1</td>\n",
              "    </tr>\n",
              "    <tr>\n",
              "      <th>716</th>\n",
              "      <td>After nearly 7 months today I made a cup of c...</td>\n",
              "      <td>1</td>\n",
              "    </tr>\n",
              "  </tbody>\n",
              "</table>\n",
              "<p>10000 rows × 2 columns</p>\n",
              "</div>"
            ],
            "text/plain": [
              "                                                   text  sentiment\n",
              "9757    Kind of like the Roselli brothers casino theft           1\n",
              "2599                                                OP           1\n",
              "8540                                               Dad           1\n",
              "1931  They are not wrong Dude does look like Tony Hawk           1\n",
              "2494                                   Like quiptonite           1\n",
              "...                                                 ...        ...\n",
              "6542                            I prefer the Sick Duck           1\n",
              "7878                  One tough water bender I d wager           1\n",
              "3751  The only people to defend attacks on our civil...          1\n",
              "3615                he looks like a middle aged lesbian          1\n",
              "716    After nearly 7 months today I made a cup of c...          1\n",
              "\n",
              "[10000 rows x 2 columns]"
            ]
          },
          "metadata": {
            "tags": []
          },
          "execution_count": 96
        }
      ]
    },
    {
      "cell_type": "code",
      "metadata": {
        "id": "9IIqNm6TUWVw"
      },
      "source": [
        "dfNegativos = pd.DataFrame(negativeComments, columns=['text'])"
      ],
      "execution_count": null,
      "outputs": []
    },
    {
      "cell_type": "code",
      "metadata": {
        "colab": {
          "base_uri": "https://localhost:8080/",
          "height": 204
        },
        "id": "RhgmLc9TVJVy",
        "outputId": "7395c6c8-a0ab-4afe-c44a-9cdb81e1a664"
      },
      "source": [
        "dfNegativos.head()"
      ],
      "execution_count": null,
      "outputs": [
        {
          "output_type": "execute_result",
          "data": {
            "text/html": [
              "<div>\n",
              "<style scoped>\n",
              "    .dataframe tbody tr th:only-of-type {\n",
              "        vertical-align: middle;\n",
              "    }\n",
              "\n",
              "    .dataframe tbody tr th {\n",
              "        vertical-align: top;\n",
              "    }\n",
              "\n",
              "    .dataframe thead th {\n",
              "        text-align: right;\n",
              "    }\n",
              "</style>\n",
              "<table border=\"1\" class=\"dataframe\">\n",
              "  <thead>\n",
              "    <tr style=\"text-align: right;\">\n",
              "      <th></th>\n",
              "      <th>text</th>\n",
              "    </tr>\n",
              "  </thead>\n",
              "  <tbody>\n",
              "    <tr>\n",
              "      <th>0</th>\n",
              "      <td>We understand that most people who reply immed...</td>\n",
              "    </tr>\n",
              "    <tr>\n",
              "      <th>1</th>\n",
              "      <td>Welcome to depression s check in post a place ...</td>\n",
              "    </tr>\n",
              "    <tr>\n",
              "      <th>2</th>\n",
              "      <td>You ever notice Therapists will see you for 45...</td>\n",
              "    </tr>\n",
              "    <tr>\n",
              "      <th>3</th>\n",
              "      <td>if we all came together in real life we could ...</td>\n",
              "    </tr>\n",
              "    <tr>\n",
              "      <th>4</th>\n",
              "      <td>I m not able to do anything right And I have n...</td>\n",
              "    </tr>\n",
              "  </tbody>\n",
              "</table>\n",
              "</div>"
            ],
            "text/plain": [
              "                                                text\n",
              "0  We understand that most people who reply immed...\n",
              "1  Welcome to depression s check in post a place ...\n",
              "2  You ever notice Therapists will see you for 45...\n",
              "3  if we all came together in real life we could ...\n",
              "4  I m not able to do anything right And I have n..."
            ]
          },
          "metadata": {
            "tags": []
          },
          "execution_count": 83
        }
      ]
    },
    {
      "cell_type": "code",
      "metadata": {
        "id": "uajCd5h_VyX2"
      },
      "source": [
        "dfNegativos['sentiment'] = 0"
      ],
      "execution_count": null,
      "outputs": []
    },
    {
      "cell_type": "code",
      "metadata": {
        "id": "O-uYKKEsV0tF"
      },
      "source": [
        "dfNegativos = dfNegativos.sample(n=10000)"
      ],
      "execution_count": null,
      "outputs": []
    },
    {
      "cell_type": "code",
      "metadata": {
        "colab": {
          "base_uri": "https://localhost:8080/",
          "height": 419
        },
        "id": "G8G60VIgV1xb",
        "outputId": "bf1b1d1d-f4c5-451f-ad82-b2eb3c7d520c"
      },
      "source": [
        "dfNegativos"
      ],
      "execution_count": null,
      "outputs": [
        {
          "output_type": "execute_result",
          "data": {
            "text/html": [
              "<div>\n",
              "<style scoped>\n",
              "    .dataframe tbody tr th:only-of-type {\n",
              "        vertical-align: middle;\n",
              "    }\n",
              "\n",
              "    .dataframe tbody tr th {\n",
              "        vertical-align: top;\n",
              "    }\n",
              "\n",
              "    .dataframe thead th {\n",
              "        text-align: right;\n",
              "    }\n",
              "</style>\n",
              "<table border=\"1\" class=\"dataframe\">\n",
              "  <thead>\n",
              "    <tr style=\"text-align: right;\">\n",
              "      <th></th>\n",
              "      <th>text</th>\n",
              "      <th>sentiment</th>\n",
              "    </tr>\n",
              "  </thead>\n",
              "  <tbody>\n",
              "    <tr>\n",
              "      <th>6537</th>\n",
              "      <td>I m looking into long term solutions but right...</td>\n",
              "      <td>0</td>\n",
              "    </tr>\n",
              "    <tr>\n",
              "      <th>3998</th>\n",
              "      <td>Chronic Depression I m at this nihilistic poin...</td>\n",
              "      <td>0</td>\n",
              "    </tr>\n",
              "    <tr>\n",
              "      <th>8699</th>\n",
              "      <td>Thinking about the best way to do itTwo weeks ...</td>\n",
              "      <td>0</td>\n",
              "    </tr>\n",
              "    <tr>\n",
              "      <th>978</th>\n",
              "      <td>I just don t feel like doing anything anymore ...</td>\n",
              "      <td>0</td>\n",
              "    </tr>\n",
              "    <tr>\n",
              "      <th>5060</th>\n",
              "      <td>I was on lonely as I was feeling that way I co...</td>\n",
              "      <td>0</td>\n",
              "    </tr>\n",
              "    <tr>\n",
              "      <th>...</th>\n",
              "      <td>...</td>\n",
              "      <td>...</td>\n",
              "    </tr>\n",
              "    <tr>\n",
              "      <th>5975</th>\n",
              "      <td>It s been years that i don t feel what i m fee...</td>\n",
              "      <td>0</td>\n",
              "    </tr>\n",
              "    <tr>\n",
              "      <th>31</th>\n",
              "      <td>There s no chance i will find how to cut mysel...</td>\n",
              "      <td>0</td>\n",
              "    </tr>\n",
              "    <tr>\n",
              "      <th>2566</th>\n",
              "      <td>So sorry The sub petloss is a good place to sh...</td>\n",
              "      <td>0</td>\n",
              "    </tr>\n",
              "    <tr>\n",
              "      <th>1719</th>\n",
              "      <td>I m consumed with my own issues I lean on othe...</td>\n",
              "      <td>0</td>\n",
              "    </tr>\n",
              "    <tr>\n",
              "      <th>3352</th>\n",
              "      <td>Crying crying crying Crying and more crying</td>\n",
              "      <td>0</td>\n",
              "    </tr>\n",
              "  </tbody>\n",
              "</table>\n",
              "<p>10000 rows × 2 columns</p>\n",
              "</div>"
            ],
            "text/plain": [
              "                                                   text  sentiment\n",
              "6537  I m looking into long term solutions but right...          0\n",
              "3998  Chronic Depression I m at this nihilistic poin...          0\n",
              "8699  Thinking about the best way to do itTwo weeks ...          0\n",
              "978   I just don t feel like doing anything anymore ...          0\n",
              "5060  I was on lonely as I was feeling that way I co...          0\n",
              "...                                                 ...        ...\n",
              "5975  It s been years that i don t feel what i m fee...          0\n",
              "31    There s no chance i will find how to cut mysel...          0\n",
              "2566  So sorry The sub petloss is a good place to sh...          0\n",
              "1719  I m consumed with my own issues I lean on othe...          0\n",
              "3352        Crying crying crying Crying and more crying          0\n",
              "\n",
              "[10000 rows x 2 columns]"
            ]
          },
          "metadata": {
            "tags": []
          },
          "execution_count": 95
        }
      ]
    },
    {
      "cell_type": "code",
      "metadata": {
        "id": "CxoHoh6CWxru"
      },
      "source": [
        "frames = [dfNegativos, dfPositivos]"
      ],
      "execution_count": null,
      "outputs": []
    },
    {
      "cell_type": "code",
      "metadata": {
        "id": "IFJn3SjVWutv"
      },
      "source": [
        "dfFinal = pd.concat(frames)"
      ],
      "execution_count": null,
      "outputs": []
    },
    {
      "cell_type": "code",
      "metadata": {
        "colab": {
          "base_uri": "https://localhost:8080/",
          "height": 419
        },
        "id": "JqsxFPEOWysp",
        "outputId": "38d3a3c1-ccc1-42ad-e1e8-c96343f99bd5"
      },
      "source": [
        "dfFinal"
      ],
      "execution_count": null,
      "outputs": [
        {
          "output_type": "execute_result",
          "data": {
            "text/html": [
              "<div>\n",
              "<style scoped>\n",
              "    .dataframe tbody tr th:only-of-type {\n",
              "        vertical-align: middle;\n",
              "    }\n",
              "\n",
              "    .dataframe tbody tr th {\n",
              "        vertical-align: top;\n",
              "    }\n",
              "\n",
              "    .dataframe thead th {\n",
              "        text-align: right;\n",
              "    }\n",
              "</style>\n",
              "<table border=\"1\" class=\"dataframe\">\n",
              "  <thead>\n",
              "    <tr style=\"text-align: right;\">\n",
              "      <th></th>\n",
              "      <th>text</th>\n",
              "      <th>sentiment</th>\n",
              "    </tr>\n",
              "  </thead>\n",
              "  <tbody>\n",
              "    <tr>\n",
              "      <th>6537</th>\n",
              "      <td>I m looking into long term solutions but right...</td>\n",
              "      <td>0</td>\n",
              "    </tr>\n",
              "    <tr>\n",
              "      <th>3998</th>\n",
              "      <td>Chronic Depression I m at this nihilistic poin...</td>\n",
              "      <td>0</td>\n",
              "    </tr>\n",
              "    <tr>\n",
              "      <th>8699</th>\n",
              "      <td>Thinking about the best way to do itTwo weeks ...</td>\n",
              "      <td>0</td>\n",
              "    </tr>\n",
              "    <tr>\n",
              "      <th>978</th>\n",
              "      <td>I just don t feel like doing anything anymore ...</td>\n",
              "      <td>0</td>\n",
              "    </tr>\n",
              "    <tr>\n",
              "      <th>5060</th>\n",
              "      <td>I was on lonely as I was feeling that way I co...</td>\n",
              "      <td>0</td>\n",
              "    </tr>\n",
              "    <tr>\n",
              "      <th>...</th>\n",
              "      <td>...</td>\n",
              "      <td>...</td>\n",
              "    </tr>\n",
              "    <tr>\n",
              "      <th>6542</th>\n",
              "      <td>I prefer the Sick Duck</td>\n",
              "      <td>1</td>\n",
              "    </tr>\n",
              "    <tr>\n",
              "      <th>7878</th>\n",
              "      <td>One tough water bender I d wager</td>\n",
              "      <td>1</td>\n",
              "    </tr>\n",
              "    <tr>\n",
              "      <th>3751</th>\n",
              "      <td>The only people to defend attacks on our civil...</td>\n",
              "      <td>1</td>\n",
              "    </tr>\n",
              "    <tr>\n",
              "      <th>3615</th>\n",
              "      <td>he looks like a middle aged lesbian</td>\n",
              "      <td>1</td>\n",
              "    </tr>\n",
              "    <tr>\n",
              "      <th>716</th>\n",
              "      <td>After nearly 7 months today I made a cup of c...</td>\n",
              "      <td>1</td>\n",
              "    </tr>\n",
              "  </tbody>\n",
              "</table>\n",
              "<p>20000 rows × 2 columns</p>\n",
              "</div>"
            ],
            "text/plain": [
              "                                                   text  sentiment\n",
              "6537  I m looking into long term solutions but right...          0\n",
              "3998  Chronic Depression I m at this nihilistic poin...          0\n",
              "8699  Thinking about the best way to do itTwo weeks ...          0\n",
              "978   I just don t feel like doing anything anymore ...          0\n",
              "5060  I was on lonely as I was feeling that way I co...          0\n",
              "...                                                 ...        ...\n",
              "6542                            I prefer the Sick Duck           1\n",
              "7878                  One tough water bender I d wager           1\n",
              "3751  The only people to defend attacks on our civil...          1\n",
              "3615                he looks like a middle aged lesbian          1\n",
              "716    After nearly 7 months today I made a cup of c...          1\n",
              "\n",
              "[20000 rows x 2 columns]"
            ]
          },
          "metadata": {
            "tags": []
          },
          "execution_count": 99
        }
      ]
    },
    {
      "cell_type": "code",
      "metadata": {
        "id": "jpc8rBJsXeb4"
      },
      "source": [
        "dfFinal.to_csv('reddit.csv', index=False)"
      ],
      "execution_count": null,
      "outputs": []
    },
    {
      "cell_type": "code",
      "metadata": {
        "id": "ZtYNhhPycQp9"
      },
      "source": [
        "dfNuevo = pd.read_csv('reddit.csv')"
      ],
      "execution_count": null,
      "outputs": []
    },
    {
      "cell_type": "code",
      "metadata": {
        "colab": {
          "base_uri": "https://localhost:8080/",
          "height": 204
        },
        "id": "M5YTr6t8cVLa",
        "outputId": "1eb7c4cd-2a47-46aa-b022-cc251a6514ac"
      },
      "source": [
        "dfNuevo.head()"
      ],
      "execution_count": null,
      "outputs": [
        {
          "output_type": "execute_result",
          "data": {
            "text/html": [
              "<div>\n",
              "<style scoped>\n",
              "    .dataframe tbody tr th:only-of-type {\n",
              "        vertical-align: middle;\n",
              "    }\n",
              "\n",
              "    .dataframe tbody tr th {\n",
              "        vertical-align: top;\n",
              "    }\n",
              "\n",
              "    .dataframe thead th {\n",
              "        text-align: right;\n",
              "    }\n",
              "</style>\n",
              "<table border=\"1\" class=\"dataframe\">\n",
              "  <thead>\n",
              "    <tr style=\"text-align: right;\">\n",
              "      <th></th>\n",
              "      <th>text</th>\n",
              "      <th>sentiment</th>\n",
              "    </tr>\n",
              "  </thead>\n",
              "  <tbody>\n",
              "    <tr>\n",
              "      <th>0</th>\n",
              "      <td>I m looking into long term solutions but right...</td>\n",
              "      <td>0</td>\n",
              "    </tr>\n",
              "    <tr>\n",
              "      <th>1</th>\n",
              "      <td>Chronic Depression I m at this nihilistic poin...</td>\n",
              "      <td>0</td>\n",
              "    </tr>\n",
              "    <tr>\n",
              "      <th>2</th>\n",
              "      <td>Thinking about the best way to do itTwo weeks ...</td>\n",
              "      <td>0</td>\n",
              "    </tr>\n",
              "    <tr>\n",
              "      <th>3</th>\n",
              "      <td>I just don t feel like doing anything anymore ...</td>\n",
              "      <td>0</td>\n",
              "    </tr>\n",
              "    <tr>\n",
              "      <th>4</th>\n",
              "      <td>I was on lonely as I was feeling that way I co...</td>\n",
              "      <td>0</td>\n",
              "    </tr>\n",
              "  </tbody>\n",
              "</table>\n",
              "</div>"
            ],
            "text/plain": [
              "                                                text  sentiment\n",
              "0  I m looking into long term solutions but right...          0\n",
              "1  Chronic Depression I m at this nihilistic poin...          0\n",
              "2  Thinking about the best way to do itTwo weeks ...          0\n",
              "3  I just don t feel like doing anything anymore ...          0\n",
              "4  I was on lonely as I was feeling that way I co...          0"
            ]
          },
          "metadata": {
            "tags": []
          },
          "execution_count": 104
        }
      ]
    },
    {
      "cell_type": "code",
      "metadata": {
        "id": "zx_sjrxVcWlN"
      },
      "source": [
        "largos = dfNuevo['text'].str.len() > 1024"
      ],
      "execution_count": null,
      "outputs": []
    },
    {
      "cell_type": "code",
      "metadata": {
        "id": "2oybVqsojEEw"
      },
      "source": [
        "cortos = dfNuevo['text'].str.len() < 1024"
      ],
      "execution_count": null,
      "outputs": []
    },
    {
      "cell_type": "code",
      "metadata": {
        "colab": {
          "base_uri": "https://localhost:8080/"
        },
        "id": "JRAbcSwKe699",
        "outputId": "8c78ff4f-3cd9-48d5-f0a7-d8eeb620c5fe"
      },
      "source": [
        "largos"
      ],
      "execution_count": null,
      "outputs": [
        {
          "output_type": "execute_result",
          "data": {
            "text/plain": [
              "0        False\n",
              "1        False\n",
              "2         True\n",
              "3        False\n",
              "4        False\n",
              "         ...  \n",
              "19995    False\n",
              "19996    False\n",
              "19997    False\n",
              "19998    False\n",
              "19999    False\n",
              "Name: text, Length: 20000, dtype: bool"
            ]
          },
          "metadata": {
            "tags": []
          },
          "execution_count": 112
        }
      ]
    },
    {
      "cell_type": "code",
      "metadata": {
        "id": "_5WC0ueJiB35"
      },
      "source": [
        "df =  dfNuevo.loc[largos]"
      ],
      "execution_count": null,
      "outputs": []
    },
    {
      "cell_type": "code",
      "metadata": {
        "id": "pJ6zjHJJoWSb"
      },
      "source": [
        "text = df['text']"
      ],
      "execution_count": null,
      "outputs": []
    },
    {
      "cell_type": "code",
      "metadata": {
        "id": "K2DKxKjUoY6f"
      },
      "source": [
        "text = text.to_list()"
      ],
      "execution_count": null,
      "outputs": []
    },
    {
      "cell_type": "code",
      "metadata": {
        "id": "iLF-UkKIiSGS"
      },
      "source": [
        "df = df.drop(['text'], axis=1)"
      ],
      "execution_count": null,
      "outputs": []
    },
    {
      "cell_type": "code",
      "metadata": {
        "colab": {
          "base_uri": "https://localhost:8080/",
          "height": 419
        },
        "id": "D-Blh99UiSYo",
        "outputId": "19713efa-a7c6-46e3-be44-a688ba8979de"
      },
      "source": [
        "df"
      ],
      "execution_count": null,
      "outputs": [
        {
          "output_type": "execute_result",
          "data": {
            "text/html": [
              "<div>\n",
              "<style scoped>\n",
              "    .dataframe tbody tr th:only-of-type {\n",
              "        vertical-align: middle;\n",
              "    }\n",
              "\n",
              "    .dataframe tbody tr th {\n",
              "        vertical-align: top;\n",
              "    }\n",
              "\n",
              "    .dataframe thead th {\n",
              "        text-align: right;\n",
              "    }\n",
              "</style>\n",
              "<table border=\"1\" class=\"dataframe\">\n",
              "  <thead>\n",
              "    <tr style=\"text-align: right;\">\n",
              "      <th></th>\n",
              "      <th>sentiment</th>\n",
              "    </tr>\n",
              "  </thead>\n",
              "  <tbody>\n",
              "    <tr>\n",
              "      <th>2</th>\n",
              "      <td>0</td>\n",
              "    </tr>\n",
              "    <tr>\n",
              "      <th>6</th>\n",
              "      <td>0</td>\n",
              "    </tr>\n",
              "    <tr>\n",
              "      <th>11</th>\n",
              "      <td>0</td>\n",
              "    </tr>\n",
              "    <tr>\n",
              "      <th>13</th>\n",
              "      <td>0</td>\n",
              "    </tr>\n",
              "    <tr>\n",
              "      <th>15</th>\n",
              "      <td>0</td>\n",
              "    </tr>\n",
              "    <tr>\n",
              "      <th>...</th>\n",
              "      <td>...</td>\n",
              "    </tr>\n",
              "    <tr>\n",
              "      <th>19830</th>\n",
              "      <td>1</td>\n",
              "    </tr>\n",
              "    <tr>\n",
              "      <th>19833</th>\n",
              "      <td>1</td>\n",
              "    </tr>\n",
              "    <tr>\n",
              "      <th>19881</th>\n",
              "      <td>1</td>\n",
              "    </tr>\n",
              "    <tr>\n",
              "      <th>19960</th>\n",
              "      <td>1</td>\n",
              "    </tr>\n",
              "    <tr>\n",
              "      <th>19989</th>\n",
              "      <td>1</td>\n",
              "    </tr>\n",
              "  </tbody>\n",
              "</table>\n",
              "<p>3013 rows × 1 columns</p>\n",
              "</div>"
            ],
            "text/plain": [
              "       sentiment\n",
              "2              0\n",
              "6              0\n",
              "11             0\n",
              "13             0\n",
              "15             0\n",
              "...          ...\n",
              "19830          1\n",
              "19833          1\n",
              "19881          1\n",
              "19960          1\n",
              "19989          1\n",
              "\n",
              "[3013 rows x 1 columns]"
            ]
          },
          "metadata": {
            "tags": []
          },
          "execution_count": 147
        }
      ]
    },
    {
      "cell_type": "code",
      "metadata": {
        "id": "oO1fr9afpEzd"
      },
      "source": [
        "df['text'] = text"
      ],
      "execution_count": null,
      "outputs": []
    },
    {
      "cell_type": "code",
      "metadata": {
        "colab": {
          "base_uri": "https://localhost:8080/",
          "height": 419
        },
        "id": "pEb-Hy1OpFAx",
        "outputId": "249d5c75-3e48-4038-c5d9-ca32b5d769e9"
      },
      "source": [
        "df"
      ],
      "execution_count": null,
      "outputs": [
        {
          "output_type": "execute_result",
          "data": {
            "text/html": [
              "<div>\n",
              "<style scoped>\n",
              "    .dataframe tbody tr th:only-of-type {\n",
              "        vertical-align: middle;\n",
              "    }\n",
              "\n",
              "    .dataframe tbody tr th {\n",
              "        vertical-align: top;\n",
              "    }\n",
              "\n",
              "    .dataframe thead th {\n",
              "        text-align: right;\n",
              "    }\n",
              "</style>\n",
              "<table border=\"1\" class=\"dataframe\">\n",
              "  <thead>\n",
              "    <tr style=\"text-align: right;\">\n",
              "      <th></th>\n",
              "      <th>sentiment</th>\n",
              "      <th>text</th>\n",
              "    </tr>\n",
              "  </thead>\n",
              "  <tbody>\n",
              "    <tr>\n",
              "      <th>2</th>\n",
              "      <td>0</td>\n",
              "      <td>Thinking about the best way to do itTwo weeks ...</td>\n",
              "    </tr>\n",
              "    <tr>\n",
              "      <th>6</th>\n",
              "      <td>0</td>\n",
              "      <td>I posted this in depression but I figured it a...</td>\n",
              "    </tr>\n",
              "    <tr>\n",
              "      <th>11</th>\n",
              "      <td>0</td>\n",
              "      <td>I wish I would die but am not strong enough to...</td>\n",
              "    </tr>\n",
              "    <tr>\n",
              "      <th>13</th>\n",
              "      <td>0</td>\n",
              "      <td>I feel so damn stupid and I feel like I m bad ...</td>\n",
              "    </tr>\n",
              "    <tr>\n",
              "      <th>15</th>\n",
              "      <td>0</td>\n",
              "      <td>I m tired I feel like shit 24 7 The older I ge...</td>\n",
              "    </tr>\n",
              "    <tr>\n",
              "      <th>...</th>\n",
              "      <td>...</td>\n",
              "      <td>...</td>\n",
              "    </tr>\n",
              "    <tr>\n",
              "      <th>19830</th>\n",
              "      <td>1</td>\n",
              "      <td>I think Civ5 shows why you cannot have militar...</td>\n",
              "    </tr>\n",
              "    <tr>\n",
              "      <th>19833</th>\n",
              "      <td>1</td>\n",
              "      <td>Hi How are you I m Cherry I have crohn s disea...</td>\n",
              "    </tr>\n",
              "    <tr>\n",
              "      <th>19881</th>\n",
              "      <td>1</td>\n",
              "      <td>Guantanamo Bay is still open and running Obama...</td>\n",
              "    </tr>\n",
              "    <tr>\n",
              "      <th>19960</th>\n",
              "      <td>1</td>\n",
              "      <td>This Saturday I m 23 f going to go with my fri...</td>\n",
              "    </tr>\n",
              "    <tr>\n",
              "      <th>19989</th>\n",
              "      <td>1</td>\n",
              "      <td>Happy to help Here are some other tricks that ...</td>\n",
              "    </tr>\n",
              "  </tbody>\n",
              "</table>\n",
              "<p>3013 rows × 2 columns</p>\n",
              "</div>"
            ],
            "text/plain": [
              "       sentiment                                               text\n",
              "2              0  Thinking about the best way to do itTwo weeks ...\n",
              "6              0  I posted this in depression but I figured it a...\n",
              "11             0  I wish I would die but am not strong enough to...\n",
              "13             0  I feel so damn stupid and I feel like I m bad ...\n",
              "15             0  I m tired I feel like shit 24 7 The older I ge...\n",
              "...          ...                                                ...\n",
              "19830          1  I think Civ5 shows why you cannot have militar...\n",
              "19833          1  Hi How are you I m Cherry I have crohn s disea...\n",
              "19881          1  Guantanamo Bay is still open and running Obama...\n",
              "19960          1  This Saturday I m 23 f going to go with my fri...\n",
              "19989          1  Happy to help Here are some other tricks that ...\n",
              "\n",
              "[3013 rows x 2 columns]"
            ]
          },
          "metadata": {
            "tags": []
          },
          "execution_count": 149
        }
      ]
    },
    {
      "cell_type": "code",
      "metadata": {
        "id": "JG66KeW2pXGv"
      },
      "source": [
        ""
      ],
      "execution_count": null,
      "outputs": []
    }
  ]
}