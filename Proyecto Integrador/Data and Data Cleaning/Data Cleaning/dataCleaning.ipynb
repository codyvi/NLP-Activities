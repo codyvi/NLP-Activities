{
 "cells": [
  {
   "cell_type": "code",
   "execution_count": 1,
   "id": "13bd2efe",
   "metadata": {},
   "outputs": [],
   "source": [
    "import pandas as pd                     #Importar la librería\n",
    "df = pd.read_csv('reddit.csv')           #Importar el dataset        "
   ]
  },
  {
   "cell_type": "code",
   "execution_count": 2,
   "id": "34a79a18",
   "metadata": {},
   "outputs": [
    {
     "data": {
      "text/plain": [
       "Index(['text', 'sentiment'], dtype='object')"
      ]
     },
     "execution_count": 2,
     "metadata": {},
     "output_type": "execute_result"
    }
   ],
   "source": [
    "df.columns                           #Conocer las columnas"
   ]
  },
  {
   "cell_type": "code",
   "execution_count": 3,
   "id": "987b87d6",
   "metadata": {},
   "outputs": [
    {
     "data": {
      "text/html": [
       "<div>\n",
       "<style scoped>\n",
       "    .dataframe tbody tr th:only-of-type {\n",
       "        vertical-align: middle;\n",
       "    }\n",
       "\n",
       "    .dataframe tbody tr th {\n",
       "        vertical-align: top;\n",
       "    }\n",
       "\n",
       "    .dataframe thead th {\n",
       "        text-align: right;\n",
       "    }\n",
       "</style>\n",
       "<table border=\"1\" class=\"dataframe\">\n",
       "  <thead>\n",
       "    <tr style=\"text-align: right;\">\n",
       "      <th></th>\n",
       "      <th>text</th>\n",
       "      <th>sentiment</th>\n",
       "    </tr>\n",
       "  </thead>\n",
       "  <tbody>\n",
       "    <tr>\n",
       "      <th>0</th>\n",
       "      <td>I m looking into long term solutions but right...</td>\n",
       "      <td>0</td>\n",
       "    </tr>\n",
       "    <tr>\n",
       "      <th>1</th>\n",
       "      <td>Chronic Depression I m at this nihilistic poin...</td>\n",
       "      <td>0</td>\n",
       "    </tr>\n",
       "    <tr>\n",
       "      <th>2</th>\n",
       "      <td>Thinking about the best way to do itTwo weeks ...</td>\n",
       "      <td>0</td>\n",
       "    </tr>\n",
       "    <tr>\n",
       "      <th>3</th>\n",
       "      <td>I just don t feel like doing anything anymore ...</td>\n",
       "      <td>0</td>\n",
       "    </tr>\n",
       "    <tr>\n",
       "      <th>4</th>\n",
       "      <td>I was on lonely as I was feeling that way I co...</td>\n",
       "      <td>0</td>\n",
       "    </tr>\n",
       "  </tbody>\n",
       "</table>\n",
       "</div>"
      ],
      "text/plain": [
       "                                                text  sentiment\n",
       "0  I m looking into long term solutions but right...          0\n",
       "1  Chronic Depression I m at this nihilistic poin...          0\n",
       "2  Thinking about the best way to do itTwo weeks ...          0\n",
       "3  I just don t feel like doing anything anymore ...          0\n",
       "4  I was on lonely as I was feeling that way I co...          0"
      ]
     },
     "execution_count": 3,
     "metadata": {},
     "output_type": "execute_result"
    }
   ],
   "source": [
    "df.head()   "
   ]
  },
  {
   "cell_type": "code",
   "execution_count": 4,
   "id": "89747305",
   "metadata": {},
   "outputs": [
    {
     "data": {
      "text/plain": [
       "0        I m looking into long term solutions but right...\n",
       "1        Chronic Depression I m at this nihilistic poin...\n",
       "2        Thinking about the best way to do itTwo weeks ...\n",
       "3        I just don t feel like doing anything anymore ...\n",
       "4        I was on lonely as I was feeling that way I co...\n",
       "                               ...                        \n",
       "19995                              I prefer the Sick Duck \n",
       "19996                    One tough water bender I d wager \n",
       "19997    The only people to defend attacks on our civil...\n",
       "19998                  he looks like a middle aged lesbian\n",
       "19999     After nearly 7 months today I made a cup of c...\n",
       "Name: text, Length: 20000, dtype: object"
      ]
     },
     "execution_count": 4,
     "metadata": {},
     "output_type": "execute_result"
    }
   ],
   "source": [
    "df['text']"
   ]
  },
  {
   "cell_type": "code",
   "execution_count": 5,
   "id": "033710b5",
   "metadata": {},
   "outputs": [],
   "source": [
    "largos = df['text'].str.len()>1024"
   ]
  },
  {
   "cell_type": "code",
   "execution_count": 6,
   "id": "e6eb6ae8",
   "metadata": {},
   "outputs": [],
   "source": [
    "cortos = df['text'].str.len()<1024"
   ]
  },
  {
   "cell_type": "code",
   "execution_count": 7,
   "id": "4135f06a",
   "metadata": {},
   "outputs": [
    {
     "data": {
      "text/plain": [
       "0        False\n",
       "1        False\n",
       "2         True\n",
       "3        False\n",
       "4        False\n",
       "         ...  \n",
       "19995    False\n",
       "19996    False\n",
       "19997    False\n",
       "19998    False\n",
       "19999    False\n",
       "Name: text, Length: 20000, dtype: bool"
      ]
     },
     "execution_count": 7,
     "metadata": {},
     "output_type": "execute_result"
    }
   ],
   "source": [
    "largos"
   ]
  },
  {
   "cell_type": "code",
   "execution_count": 8,
   "id": "b6fd9b73",
   "metadata": {},
   "outputs": [],
   "source": [
    "df = df.loc[cortos]"
   ]
  },
  {
   "cell_type": "code",
   "execution_count": 9,
   "id": "1e0b759b",
   "metadata": {},
   "outputs": [
    {
     "data": {
      "text/html": [
       "<div>\n",
       "<style scoped>\n",
       "    .dataframe tbody tr th:only-of-type {\n",
       "        vertical-align: middle;\n",
       "    }\n",
       "\n",
       "    .dataframe tbody tr th {\n",
       "        vertical-align: top;\n",
       "    }\n",
       "\n",
       "    .dataframe thead th {\n",
       "        text-align: right;\n",
       "    }\n",
       "</style>\n",
       "<table border=\"1\" class=\"dataframe\">\n",
       "  <thead>\n",
       "    <tr style=\"text-align: right;\">\n",
       "      <th></th>\n",
       "      <th>text</th>\n",
       "      <th>sentiment</th>\n",
       "    </tr>\n",
       "  </thead>\n",
       "  <tbody>\n",
       "    <tr>\n",
       "      <th>0</th>\n",
       "      <td>I m looking into long term solutions but right...</td>\n",
       "      <td>0</td>\n",
       "    </tr>\n",
       "    <tr>\n",
       "      <th>1</th>\n",
       "      <td>Chronic Depression I m at this nihilistic poin...</td>\n",
       "      <td>0</td>\n",
       "    </tr>\n",
       "    <tr>\n",
       "      <th>3</th>\n",
       "      <td>I just don t feel like doing anything anymore ...</td>\n",
       "      <td>0</td>\n",
       "    </tr>\n",
       "    <tr>\n",
       "      <th>4</th>\n",
       "      <td>I was on lonely as I was feeling that way I co...</td>\n",
       "      <td>0</td>\n",
       "    </tr>\n",
       "    <tr>\n",
       "      <th>5</th>\n",
       "      <td>Reached the end of my rope Alcoholism worse th...</td>\n",
       "      <td>0</td>\n",
       "    </tr>\n",
       "    <tr>\n",
       "      <th>7</th>\n",
       "      <td>I ve been doing this for 16 years so I guess I...</td>\n",
       "      <td>0</td>\n",
       "    </tr>\n",
       "    <tr>\n",
       "      <th>8</th>\n",
       "      <td>mind has this going for months nowDrink powder...</td>\n",
       "      <td>0</td>\n",
       "    </tr>\n",
       "    <tr>\n",
       "      <th>9</th>\n",
       "      <td>I just attempted to kill myself but I don t kn...</td>\n",
       "      <td>0</td>\n",
       "    </tr>\n",
       "    <tr>\n",
       "      <th>10</th>\n",
       "      <td>Suicide seems like the only way I glean avoid ...</td>\n",
       "      <td>0</td>\n",
       "    </tr>\n",
       "    <tr>\n",
       "      <th>12</th>\n",
       "      <td>Has anyone ever felt like you wanna hurt yours...</td>\n",
       "      <td>0</td>\n",
       "    </tr>\n",
       "    <tr>\n",
       "      <th>14</th>\n",
       "      <td>inside my head why are there two different peo...</td>\n",
       "      <td>0</td>\n",
       "    </tr>\n",
       "    <tr>\n",
       "      <th>16</th>\n",
       "      <td>These past few days I ve been feeling better T...</td>\n",
       "      <td>0</td>\n",
       "    </tr>\n",
       "  </tbody>\n",
       "</table>\n",
       "</div>"
      ],
      "text/plain": [
       "                                                 text  sentiment\n",
       "0   I m looking into long term solutions but right...          0\n",
       "1   Chronic Depression I m at this nihilistic poin...          0\n",
       "3   I just don t feel like doing anything anymore ...          0\n",
       "4   I was on lonely as I was feeling that way I co...          0\n",
       "5   Reached the end of my rope Alcoholism worse th...          0\n",
       "7   I ve been doing this for 16 years so I guess I...          0\n",
       "8   mind has this going for months nowDrink powder...          0\n",
       "9   I just attempted to kill myself but I don t kn...          0\n",
       "10  Suicide seems like the only way I glean avoid ...          0\n",
       "12  Has anyone ever felt like you wanna hurt yours...          0\n",
       "14  inside my head why are there two different peo...          0\n",
       "16  These past few days I ve been feeling better T...          0"
      ]
     },
     "execution_count": 9,
     "metadata": {},
     "output_type": "execute_result"
    }
   ],
   "source": [
    "df.head(12)"
   ]
  },
  {
   "cell_type": "code",
   "execution_count": 10,
   "id": "337d1cdd",
   "metadata": {},
   "outputs": [
    {
     "data": {
      "text/plain": [
       "16980"
      ]
     },
     "execution_count": 10,
     "metadata": {},
     "output_type": "execute_result"
    }
   ],
   "source": [
    "len(df)"
   ]
  },
  {
   "cell_type": "code",
   "execution_count": 11,
   "id": "0534f5f4",
   "metadata": {},
   "outputs": [],
   "source": [
    "df.to_csv(\"Reddit_cortos.csv\", index=False)"
   ]
  },
  {
   "cell_type": "code",
   "execution_count": 12,
   "id": "514262e5",
   "metadata": {},
   "outputs": [],
   "source": [
    "df1 = df.head(5000)"
   ]
  },
  {
   "cell_type": "code",
   "execution_count": 13,
   "id": "132aa58d",
   "metadata": {},
   "outputs": [
    {
     "data": {
      "text/html": [
       "<div>\n",
       "<style scoped>\n",
       "    .dataframe tbody tr th:only-of-type {\n",
       "        vertical-align: middle;\n",
       "    }\n",
       "\n",
       "    .dataframe tbody tr th {\n",
       "        vertical-align: top;\n",
       "    }\n",
       "\n",
       "    .dataframe thead th {\n",
       "        text-align: right;\n",
       "    }\n",
       "</style>\n",
       "<table border=\"1\" class=\"dataframe\">\n",
       "  <thead>\n",
       "    <tr style=\"text-align: right;\">\n",
       "      <th></th>\n",
       "      <th>text</th>\n",
       "      <th>sentiment</th>\n",
       "    </tr>\n",
       "  </thead>\n",
       "  <tbody>\n",
       "    <tr>\n",
       "      <th>0</th>\n",
       "      <td>I m looking into long term solutions but right...</td>\n",
       "      <td>0</td>\n",
       "    </tr>\n",
       "    <tr>\n",
       "      <th>1</th>\n",
       "      <td>Chronic Depression I m at this nihilistic poin...</td>\n",
       "      <td>0</td>\n",
       "    </tr>\n",
       "    <tr>\n",
       "      <th>3</th>\n",
       "      <td>I just don t feel like doing anything anymore ...</td>\n",
       "      <td>0</td>\n",
       "    </tr>\n",
       "    <tr>\n",
       "      <th>4</th>\n",
       "      <td>I was on lonely as I was feeling that way I co...</td>\n",
       "      <td>0</td>\n",
       "    </tr>\n",
       "    <tr>\n",
       "      <th>5</th>\n",
       "      <td>Reached the end of my rope Alcoholism worse th...</td>\n",
       "      <td>0</td>\n",
       "    </tr>\n",
       "    <tr>\n",
       "      <th>...</th>\n",
       "      <td>...</td>\n",
       "      <td>...</td>\n",
       "    </tr>\n",
       "    <tr>\n",
       "      <th>6888</th>\n",
       "      <td>No point on living19 y o No one wamts me I fee...</td>\n",
       "      <td>0</td>\n",
       "    </tr>\n",
       "    <tr>\n",
       "      <th>6890</th>\n",
       "      <td>I recently found out the girl that i had been ...</td>\n",
       "      <td>0</td>\n",
       "    </tr>\n",
       "    <tr>\n",
       "      <th>6891</th>\n",
       "      <td>I m 21 have bpd and hate my life I have no fri...</td>\n",
       "      <td>0</td>\n",
       "    </tr>\n",
       "    <tr>\n",
       "      <th>6892</th>\n",
       "      <td>Im 20 still a university student I ve been in ...</td>\n",
       "      <td>0</td>\n",
       "    </tr>\n",
       "    <tr>\n",
       "      <th>6894</th>\n",
       "      <td>Does anyone want to meet up I m such a nobody ...</td>\n",
       "      <td>0</td>\n",
       "    </tr>\n",
       "  </tbody>\n",
       "</table>\n",
       "<p>5000 rows × 2 columns</p>\n",
       "</div>"
      ],
      "text/plain": [
       "                                                   text  sentiment\n",
       "0     I m looking into long term solutions but right...          0\n",
       "1     Chronic Depression I m at this nihilistic poin...          0\n",
       "3     I just don t feel like doing anything anymore ...          0\n",
       "4     I was on lonely as I was feeling that way I co...          0\n",
       "5     Reached the end of my rope Alcoholism worse th...          0\n",
       "...                                                 ...        ...\n",
       "6888  No point on living19 y o No one wamts me I fee...          0\n",
       "6890  I recently found out the girl that i had been ...          0\n",
       "6891  I m 21 have bpd and hate my life I have no fri...          0\n",
       "6892  Im 20 still a university student I ve been in ...          0\n",
       "6894  Does anyone want to meet up I m such a nobody ...          0\n",
       "\n",
       "[5000 rows x 2 columns]"
      ]
     },
     "execution_count": 13,
     "metadata": {},
     "output_type": "execute_result"
    }
   ],
   "source": [
    "df1"
   ]
  },
  {
   "cell_type": "code",
   "execution_count": 14,
   "id": "935ec51a",
   "metadata": {},
   "outputs": [],
   "source": [
    "dfTemp = df.iloc[5000: , :]"
   ]
  },
  {
   "cell_type": "code",
   "execution_count": 15,
   "id": "8f1ee628",
   "metadata": {},
   "outputs": [
    {
     "data": {
      "text/html": [
       "<div>\n",
       "<style scoped>\n",
       "    .dataframe tbody tr th:only-of-type {\n",
       "        vertical-align: middle;\n",
       "    }\n",
       "\n",
       "    .dataframe tbody tr th {\n",
       "        vertical-align: top;\n",
       "    }\n",
       "\n",
       "    .dataframe thead th {\n",
       "        text-align: right;\n",
       "    }\n",
       "</style>\n",
       "<table border=\"1\" class=\"dataframe\">\n",
       "  <thead>\n",
       "    <tr style=\"text-align: right;\">\n",
       "      <th></th>\n",
       "      <th>text</th>\n",
       "      <th>sentiment</th>\n",
       "    </tr>\n",
       "  </thead>\n",
       "  <tbody>\n",
       "    <tr>\n",
       "      <th>6895</th>\n",
       "      <td>Pretty depressed todayI am pretty depressed to...</td>\n",
       "      <td>0</td>\n",
       "    </tr>\n",
       "    <tr>\n",
       "      <th>6896</th>\n",
       "      <td>I wish I never dated or anything Im 28 years o...</td>\n",
       "      <td>0</td>\n",
       "    </tr>\n",
       "    <tr>\n",
       "      <th>6897</th>\n",
       "      <td>inside my head why are there two different peo...</td>\n",
       "      <td>0</td>\n",
       "    </tr>\n",
       "    <tr>\n",
       "      <th>6899</th>\n",
       "      <td>I went to bed yesterday praying I don t wake u...</td>\n",
       "      <td>0</td>\n",
       "    </tr>\n",
       "    <tr>\n",
       "      <th>6901</th>\n",
       "      <td>Today was an awful day my parents especially m...</td>\n",
       "      <td>0</td>\n",
       "    </tr>\n",
       "    <tr>\n",
       "      <th>...</th>\n",
       "      <td>...</td>\n",
       "      <td>...</td>\n",
       "    </tr>\n",
       "    <tr>\n",
       "      <th>19995</th>\n",
       "      <td>I prefer the Sick Duck</td>\n",
       "      <td>1</td>\n",
       "    </tr>\n",
       "    <tr>\n",
       "      <th>19996</th>\n",
       "      <td>One tough water bender I d wager</td>\n",
       "      <td>1</td>\n",
       "    </tr>\n",
       "    <tr>\n",
       "      <th>19997</th>\n",
       "      <td>The only people to defend attacks on our civil...</td>\n",
       "      <td>1</td>\n",
       "    </tr>\n",
       "    <tr>\n",
       "      <th>19998</th>\n",
       "      <td>he looks like a middle aged lesbian</td>\n",
       "      <td>1</td>\n",
       "    </tr>\n",
       "    <tr>\n",
       "      <th>19999</th>\n",
       "      <td>After nearly 7 months today I made a cup of c...</td>\n",
       "      <td>1</td>\n",
       "    </tr>\n",
       "  </tbody>\n",
       "</table>\n",
       "<p>11980 rows × 2 columns</p>\n",
       "</div>"
      ],
      "text/plain": [
       "                                                    text  sentiment\n",
       "6895   Pretty depressed todayI am pretty depressed to...          0\n",
       "6896   I wish I never dated or anything Im 28 years o...          0\n",
       "6897   inside my head why are there two different peo...          0\n",
       "6899   I went to bed yesterday praying I don t wake u...          0\n",
       "6901   Today was an awful day my parents especially m...          0\n",
       "...                                                  ...        ...\n",
       "19995                            I prefer the Sick Duck           1\n",
       "19996                  One tough water bender I d wager           1\n",
       "19997  The only people to defend attacks on our civil...          1\n",
       "19998                he looks like a middle aged lesbian          1\n",
       "19999   After nearly 7 months today I made a cup of c...          1\n",
       "\n",
       "[11980 rows x 2 columns]"
      ]
     },
     "execution_count": 15,
     "metadata": {},
     "output_type": "execute_result"
    }
   ],
   "source": [
    "dfTemp"
   ]
  },
  {
   "cell_type": "code",
   "execution_count": 16,
   "id": "dc4013d7",
   "metadata": {},
   "outputs": [],
   "source": [
    "df2 = dfTemp.head(5000)"
   ]
  },
  {
   "cell_type": "code",
   "execution_count": 17,
   "id": "17d81636",
   "metadata": {},
   "outputs": [],
   "source": [
    "dfTemp = dfTemp.iloc[5000: , :]"
   ]
  },
  {
   "cell_type": "code",
   "execution_count": 18,
   "id": "5a25c6ac",
   "metadata": {},
   "outputs": [
    {
     "data": {
      "text/html": [
       "<div>\n",
       "<style scoped>\n",
       "    .dataframe tbody tr th:only-of-type {\n",
       "        vertical-align: middle;\n",
       "    }\n",
       "\n",
       "    .dataframe tbody tr th {\n",
       "        vertical-align: top;\n",
       "    }\n",
       "\n",
       "    .dataframe thead th {\n",
       "        text-align: right;\n",
       "    }\n",
       "</style>\n",
       "<table border=\"1\" class=\"dataframe\">\n",
       "  <thead>\n",
       "    <tr style=\"text-align: right;\">\n",
       "      <th></th>\n",
       "      <th>text</th>\n",
       "      <th>sentiment</th>\n",
       "    </tr>\n",
       "  </thead>\n",
       "  <tbody>\n",
       "    <tr>\n",
       "      <th>12816</th>\n",
       "      <td>It s hot if he goes with the flow and is down ...</td>\n",
       "      <td>1</td>\n",
       "    </tr>\n",
       "    <tr>\n",
       "      <th>12817</th>\n",
       "      <td>Honestly you should have just washed the teddy...</td>\n",
       "      <td>1</td>\n",
       "    </tr>\n",
       "    <tr>\n",
       "      <th>12818</th>\n",
       "      <td>On the bright side Free lunch</td>\n",
       "      <td>1</td>\n",
       "    </tr>\n",
       "    <tr>\n",
       "      <th>12819</th>\n",
       "      <td>That s most likely correct the article says he...</td>\n",
       "      <td>1</td>\n",
       "    </tr>\n",
       "    <tr>\n",
       "      <th>12820</th>\n",
       "      <td>Hello everyone I just want to remind everyone ...</td>\n",
       "      <td>1</td>\n",
       "    </tr>\n",
       "    <tr>\n",
       "      <th>...</th>\n",
       "      <td>...</td>\n",
       "      <td>...</td>\n",
       "    </tr>\n",
       "    <tr>\n",
       "      <th>19995</th>\n",
       "      <td>I prefer the Sick Duck</td>\n",
       "      <td>1</td>\n",
       "    </tr>\n",
       "    <tr>\n",
       "      <th>19996</th>\n",
       "      <td>One tough water bender I d wager</td>\n",
       "      <td>1</td>\n",
       "    </tr>\n",
       "    <tr>\n",
       "      <th>19997</th>\n",
       "      <td>The only people to defend attacks on our civil...</td>\n",
       "      <td>1</td>\n",
       "    </tr>\n",
       "    <tr>\n",
       "      <th>19998</th>\n",
       "      <td>he looks like a middle aged lesbian</td>\n",
       "      <td>1</td>\n",
       "    </tr>\n",
       "    <tr>\n",
       "      <th>19999</th>\n",
       "      <td>After nearly 7 months today I made a cup of c...</td>\n",
       "      <td>1</td>\n",
       "    </tr>\n",
       "  </tbody>\n",
       "</table>\n",
       "<p>6980 rows × 2 columns</p>\n",
       "</div>"
      ],
      "text/plain": [
       "                                                    text  sentiment\n",
       "12816  It s hot if he goes with the flow and is down ...          1\n",
       "12817  Honestly you should have just washed the teddy...          1\n",
       "12818                     On the bright side Free lunch           1\n",
       "12819  That s most likely correct the article says he...          1\n",
       "12820  Hello everyone I just want to remind everyone ...          1\n",
       "...                                                  ...        ...\n",
       "19995                            I prefer the Sick Duck           1\n",
       "19996                  One tough water bender I d wager           1\n",
       "19997  The only people to defend attacks on our civil...          1\n",
       "19998                he looks like a middle aged lesbian          1\n",
       "19999   After nearly 7 months today I made a cup of c...          1\n",
       "\n",
       "[6980 rows x 2 columns]"
      ]
     },
     "execution_count": 18,
     "metadata": {},
     "output_type": "execute_result"
    }
   ],
   "source": [
    "dfTemp"
   ]
  },
  {
   "cell_type": "code",
   "execution_count": 19,
   "id": "0a3ff638",
   "metadata": {},
   "outputs": [],
   "source": [
    "df3 = dfTemp.head(5000)"
   ]
  },
  {
   "cell_type": "code",
   "execution_count": 20,
   "id": "c89a0955",
   "metadata": {},
   "outputs": [],
   "source": [
    "dfTemp = dfTemp.iloc[5000: , :]"
   ]
  },
  {
   "cell_type": "code",
   "execution_count": 21,
   "id": "423c3535",
   "metadata": {},
   "outputs": [
    {
     "data": {
      "text/html": [
       "<div>\n",
       "<style scoped>\n",
       "    .dataframe tbody tr th:only-of-type {\n",
       "        vertical-align: middle;\n",
       "    }\n",
       "\n",
       "    .dataframe tbody tr th {\n",
       "        vertical-align: top;\n",
       "    }\n",
       "\n",
       "    .dataframe thead th {\n",
       "        text-align: right;\n",
       "    }\n",
       "</style>\n",
       "<table border=\"1\" class=\"dataframe\">\n",
       "  <thead>\n",
       "    <tr style=\"text-align: right;\">\n",
       "      <th></th>\n",
       "      <th>text</th>\n",
       "      <th>sentiment</th>\n",
       "    </tr>\n",
       "  </thead>\n",
       "  <tbody>\n",
       "    <tr>\n",
       "      <th>17966</th>\n",
       "      <td>It looked like one guy at 44 sec got off the f...</td>\n",
       "      <td>1</td>\n",
       "    </tr>\n",
       "    <tr>\n",
       "      <th>17967</th>\n",
       "      <td>I think we take a good hard look in the mirror...</td>\n",
       "      <td>1</td>\n",
       "    </tr>\n",
       "    <tr>\n",
       "      <th>17968</th>\n",
       "      <td>50 creeped out</td>\n",
       "      <td>1</td>\n",
       "    </tr>\n",
       "    <tr>\n",
       "      <th>17969</th>\n",
       "      <td>I m 31 and wtf is Pokemon</td>\n",
       "      <td>1</td>\n",
       "    </tr>\n",
       "    <tr>\n",
       "      <th>17970</th>\n",
       "      <td>Yeah I guess it s really hard to recognize Ton...</td>\n",
       "      <td>1</td>\n",
       "    </tr>\n",
       "    <tr>\n",
       "      <th>...</th>\n",
       "      <td>...</td>\n",
       "      <td>...</td>\n",
       "    </tr>\n",
       "    <tr>\n",
       "      <th>19995</th>\n",
       "      <td>I prefer the Sick Duck</td>\n",
       "      <td>1</td>\n",
       "    </tr>\n",
       "    <tr>\n",
       "      <th>19996</th>\n",
       "      <td>One tough water bender I d wager</td>\n",
       "      <td>1</td>\n",
       "    </tr>\n",
       "    <tr>\n",
       "      <th>19997</th>\n",
       "      <td>The only people to defend attacks on our civil...</td>\n",
       "      <td>1</td>\n",
       "    </tr>\n",
       "    <tr>\n",
       "      <th>19998</th>\n",
       "      <td>he looks like a middle aged lesbian</td>\n",
       "      <td>1</td>\n",
       "    </tr>\n",
       "    <tr>\n",
       "      <th>19999</th>\n",
       "      <td>After nearly 7 months today I made a cup of c...</td>\n",
       "      <td>1</td>\n",
       "    </tr>\n",
       "  </tbody>\n",
       "</table>\n",
       "<p>1980 rows × 2 columns</p>\n",
       "</div>"
      ],
      "text/plain": [
       "                                                    text  sentiment\n",
       "17966  It looked like one guy at 44 sec got off the f...          1\n",
       "17967  I think we take a good hard look in the mirror...          1\n",
       "17968                                     50 creeped out          1\n",
       "17969                         I m 31 and wtf is Pokemon           1\n",
       "17970  Yeah I guess it s really hard to recognize Ton...          1\n",
       "...                                                  ...        ...\n",
       "19995                            I prefer the Sick Duck           1\n",
       "19996                  One tough water bender I d wager           1\n",
       "19997  The only people to defend attacks on our civil...          1\n",
       "19998                he looks like a middle aged lesbian          1\n",
       "19999   After nearly 7 months today I made a cup of c...          1\n",
       "\n",
       "[1980 rows x 2 columns]"
      ]
     },
     "execution_count": 21,
     "metadata": {},
     "output_type": "execute_result"
    }
   ],
   "source": [
    "dfTemp"
   ]
  },
  {
   "cell_type": "code",
   "execution_count": 22,
   "id": "af18f112",
   "metadata": {},
   "outputs": [],
   "source": [
    "df4 = dfTemp.head(5000)"
   ]
  },
  {
   "cell_type": "code",
   "execution_count": 23,
   "id": "fda8bf75",
   "metadata": {},
   "outputs": [],
   "source": [
    "df1.to_csv(\"dataReddit1.csv\", index=False)\n",
    "df2.to_csv(\"dataReddit2.csv\", index=False)\n",
    "df3.to_csv(\"dataReddit3.csv\", index=False)\n",
    "df4.to_csv(\"dataReddit4.csv\", index=False)"
   ]
  },
  {
   "cell_type": "code",
   "execution_count": null,
   "id": "ab851873",
   "metadata": {},
   "outputs": [],
   "source": []
  }
 ],
 "metadata": {
  "kernelspec": {
   "display_name": "Python 3",
   "language": "python",
   "name": "python3"
  },
  "language_info": {
   "codemirror_mode": {
    "name": "ipython",
    "version": 3
   },
   "file_extension": ".py",
   "mimetype": "text/x-python",
   "name": "python",
   "nbconvert_exporter": "python",
   "pygments_lexer": "ipython3",
   "version": "3.8.3"
  }
 },
 "nbformat": 4,
 "nbformat_minor": 5
}
